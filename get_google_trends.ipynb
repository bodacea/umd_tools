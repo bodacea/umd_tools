{
 "cells": [
  {
   "cell_type": "markdown",
   "metadata": {},
   "source": [
    "# test Google trends API\n",
    "\n",
    "Following https://towardsdatascience.com/google-trends-api-for-python-a84bc25db88f\n",
    "\n",
    "Notes:\n",
    "* To see full list of countries returned, use \"print('{}'.format(df.index.to_list()))\"\n",
    "* https://pypi.org/project/pytrends/ is good place to see options available"
   ]
  },
  {
   "cell_type": "code",
   "execution_count": 6,
   "metadata": {},
   "outputs": [],
   "source": [
    "import pandas as pd\n",
    "from pytrends.request import TrendReq\n",
    "\n",
    "countries = ['Bosnia & Herzegovina', 'Kyrgyzstan', 'Moldova', 'Ukraine', 'Uzbekistan', 'US']\n",
    "\n",
    "pytrend = TrendReq()"
   ]
  },
  {
   "cell_type": "code",
   "execution_count": 7,
   "metadata": {},
   "outputs": [
    {
     "data": {
      "text/html": [
       "<div>\n",
       "<style scoped>\n",
       "    .dataframe tbody tr th:only-of-type {\n",
       "        vertical-align: middle;\n",
       "    }\n",
       "\n",
       "    .dataframe tbody tr th {\n",
       "        vertical-align: top;\n",
       "    }\n",
       "\n",
       "    .dataframe thead th {\n",
       "        text-align: right;\n",
       "    }\n",
       "</style>\n",
       "<table border=\"1\" class=\"dataframe\">\n",
       "  <thead>\n",
       "    <tr style=\"text-align: right;\">\n",
       "      <th></th>\n",
       "      <th>geoName</th>\n",
       "      <th>вакцинацию</th>\n",
       "    </tr>\n",
       "  </thead>\n",
       "  <tbody>\n",
       "    <tr>\n",
       "      <th>1</th>\n",
       "      <td>Albania</td>\n",
       "      <td>0</td>\n",
       "    </tr>\n",
       "    <tr>\n",
       "      <th>10</th>\n",
       "      <td>Armenia</td>\n",
       "      <td>0</td>\n",
       "    </tr>\n",
       "    <tr>\n",
       "      <th>14</th>\n",
       "      <td>Azerbaijan</td>\n",
       "      <td>13</td>\n",
       "    </tr>\n",
       "    <tr>\n",
       "      <th>19</th>\n",
       "      <td>Belarus</td>\n",
       "      <td>25</td>\n",
       "    </tr>\n",
       "    <tr>\n",
       "      <th>26</th>\n",
       "      <td>Bosnia &amp; Herzegovina</td>\n",
       "      <td>0</td>\n",
       "    </tr>\n",
       "    <tr>\n",
       "      <th>82</th>\n",
       "      <td>Georgia</td>\n",
       "      <td>20</td>\n",
       "    </tr>\n",
       "    <tr>\n",
       "      <th>114</th>\n",
       "      <td>Kazakhstan</td>\n",
       "      <td>70</td>\n",
       "    </tr>\n",
       "    <tr>\n",
       "      <th>117</th>\n",
       "      <td>Kosovo</td>\n",
       "      <td>0</td>\n",
       "    </tr>\n",
       "    <tr>\n",
       "      <th>119</th>\n",
       "      <td>Kyrgyzstan</td>\n",
       "      <td>18</td>\n",
       "    </tr>\n",
       "    <tr>\n",
       "      <th>143</th>\n",
       "      <td>Moldova</td>\n",
       "      <td>37</td>\n",
       "    </tr>\n",
       "    <tr>\n",
       "      <th>146</th>\n",
       "      <td>Montenegro</td>\n",
       "      <td>0</td>\n",
       "    </tr>\n",
       "    <tr>\n",
       "      <th>163</th>\n",
       "      <td>North Macedonia</td>\n",
       "      <td>0</td>\n",
       "    </tr>\n",
       "    <tr>\n",
       "      <th>188</th>\n",
       "      <td>Serbia</td>\n",
       "      <td>0</td>\n",
       "    </tr>\n",
       "    <tr>\n",
       "      <th>218</th>\n",
       "      <td>Tajikistan</td>\n",
       "      <td>29</td>\n",
       "    </tr>\n",
       "    <tr>\n",
       "      <th>227</th>\n",
       "      <td>Turkey</td>\n",
       "      <td>0</td>\n",
       "    </tr>\n",
       "    <tr>\n",
       "      <th>228</th>\n",
       "      <td>Turkmenistan</td>\n",
       "      <td>0</td>\n",
       "    </tr>\n",
       "    <tr>\n",
       "      <th>234</th>\n",
       "      <td>Ukraine</td>\n",
       "      <td>67</td>\n",
       "    </tr>\n",
       "    <tr>\n",
       "      <th>239</th>\n",
       "      <td>Uzbekistan</td>\n",
       "      <td>19</td>\n",
       "    </tr>\n",
       "  </tbody>\n",
       "</table>\n",
       "</div>"
      ],
      "text/plain": [
       "                  geoName  вакцинацию\n",
       "1                 Albania           0\n",
       "10                Armenia           0\n",
       "14             Azerbaijan          13\n",
       "19                Belarus          25\n",
       "26   Bosnia & Herzegovina           0\n",
       "82                Georgia          20\n",
       "114            Kazakhstan          70\n",
       "117                Kosovo           0\n",
       "119            Kyrgyzstan          18\n",
       "143               Moldova          37\n",
       "146            Montenegro           0\n",
       "163       North Macedonia           0\n",
       "188                Serbia           0\n",
       "218            Tajikistan          29\n",
       "227                Turkey           0\n",
       "228          Turkmenistan           0\n",
       "234               Ukraine          67\n",
       "239            Uzbekistan          19"
      ]
     },
     "execution_count": 7,
     "metadata": {},
     "output_type": "execute_result"
    }
   ],
   "source": [
    "searchterms = ['covid', 'kovid', 'corona']\n",
    "vaxterms = [\n",
    "    'cepivo', 'cjepivo', 'sanjym', 'szczepionka', 'vaccin', 'vacina', \n",
    "    'vakcina', 'vakcína', 'vakcīna', 'vaksin', 'vaksine', 'vaksinë', \n",
    "    'vaktsiin', 'vaktsina', 'вакцина', 'вакцинацию', 'вакцына', 'ვაქცინა']\n",
    "\n",
    "# Go get some results\n",
    "pytrend.build_payload(kw_list=['вакцинацию'])\n",
    "\n",
    "# Interest by Region\n",
    "df = pytrend.interest_by_region().reset_index()\n",
    "dfpri = df[df['geoName'].isin(prioritycountries)]\n",
    "\n",
    "dfpri"
   ]
  },
  {
   "cell_type": "code",
   "execution_count": 8,
   "metadata": {},
   "outputs": [
    {
     "data": {
      "text/html": [
       "<div>\n",
       "<style scoped>\n",
       "    .dataframe tbody tr th:only-of-type {\n",
       "        vertical-align: middle;\n",
       "    }\n",
       "\n",
       "    .dataframe tbody tr th {\n",
       "        vertical-align: top;\n",
       "    }\n",
       "\n",
       "    .dataframe thead th {\n",
       "        text-align: right;\n",
       "    }\n",
       "</style>\n",
       "<table border=\"1\" class=\"dataframe\">\n",
       "  <thead>\n",
       "    <tr style=\"text-align: right;\">\n",
       "      <th></th>\n",
       "      <th>0</th>\n",
       "    </tr>\n",
       "  </thead>\n",
       "  <tbody>\n",
       "    <tr>\n",
       "      <th>0</th>\n",
       "      <td>World Series</td>\n",
       "    </tr>\n",
       "    <tr>\n",
       "      <th>1</th>\n",
       "      <td>Lakers vs Spurs</td>\n",
       "    </tr>\n",
       "    <tr>\n",
       "      <th>2</th>\n",
       "      <td>Stan Bowman</td>\n",
       "    </tr>\n",
       "    <tr>\n",
       "      <th>3</th>\n",
       "      <td>Chevrolet Corvette Z06 reveal</td>\n",
       "    </tr>\n",
       "    <tr>\n",
       "      <th>4</th>\n",
       "      <td>Spanx</td>\n",
       "    </tr>\n",
       "  </tbody>\n",
       "</table>\n",
       "</div>"
      ],
      "text/plain": [
       "                               0\n",
       "0                   World Series\n",
       "1                Lakers vs Spurs\n",
       "2                    Stan Bowman\n",
       "3  Chevrolet Corvette Z06 reveal\n",
       "4                          Spanx"
      ]
     },
     "execution_count": 8,
     "metadata": {},
     "output_type": "execute_result"
    }
   ],
   "source": [
    "# get trending topics - doesn't seem to be available for all countries\n",
    "\n",
    "df = pytrend.trending_searches(pn='united_states')\n",
    "df.head()"
   ]
  },
  {
   "cell_type": "code",
   "execution_count": 9,
   "metadata": {},
   "outputs": [
    {
     "data": {
      "text/plain": [
       "0                     World Series\n",
       "1                  Lakers vs Spurs\n",
       "2                      Stan Bowman\n",
       "3    Chevrolet Corvette Z06 reveal\n",
       "4                            Spanx\n",
       "Name: query, dtype: object"
      ]
     },
     "execution_count": 9,
     "metadata": {},
     "output_type": "execute_result"
    }
   ],
   "source": [
    "# get today's topics - doesn't seem to be available for all countries\n",
    "df = pytrend.today_searches(pn='US')\n",
    "df.head()"
   ]
  },
  {
   "cell_type": "code",
   "execution_count": 10,
   "metadata": {},
   "outputs": [
    {
     "data": {
      "text/plain": [
       "dict_values([{'top':                             query  value\n",
       "0                ფაიზერის ვაქცინა    100\n",
       "1             ვაქცინა რეგისტრაცია     56\n",
       "2                  გრიპის ვაქცინა     27\n",
       "3                  ჩინური ვაქცინა     18\n",
       "4              სინოფარმის ვაქცინა     16\n",
       "5                         ფაიზერი     13\n",
       "6   ფაიზერის ვაქცინა შემადგენლობა     13\n",
       "7                   ცოფის ვაქცინა      9\n",
       "8            კორონავირუსი ვაქცინა      7\n",
       "9               სინოვაკის ვაქცინა      7\n",
       "10           ასტრაზენეკას ვაქცინა      7\n",
       "11       პაპილომა ვირუსის ვაქცინა      5\n",
       "12             აცრაზე რეგისტრაცია      4, 'rising':                             query   value\n",
       "0                ფაიზერის ვაქცინა  918500\n",
       "1             ვაქცინა რეგისტრაცია  518700\n",
       "2                  ჩინური ვაქცინა  164950\n",
       "3              სინოფარმის ვაქცინა  144750\n",
       "4                         ფაიზერი  123850\n",
       "5   ფაიზერის ვაქცინა შემადგენლობა  123750\n",
       "6            კორონავირუსი ვაქცინა   62000\n",
       "7               სინოვაკის ვაქცინა   61850\n",
       "8            ასტრაზენეკას ვაქცინა   61650\n",
       "9        პაპილომა ვირუსის ვაქცინა   41400\n",
       "10             აცრაზე რეგისტრაცია   41150}])"
      ]
     },
     "execution_count": 10,
     "metadata": {},
     "output_type": "execute_result"
    }
   ],
   "source": [
    "pytrend.build_payload(kw_list=['ვაქცინა'])\n",
    "related_queries = pytrend.related_queries()\n",
    "related_queries.values()"
   ]
  },
  {
   "cell_type": "code",
   "execution_count": null,
   "metadata": {},
   "outputs": [],
   "source": []
  },
  {
   "cell_type": "code",
   "execution_count": null,
   "metadata": {},
   "outputs": [],
   "source": []
  }
 ],
 "metadata": {
  "kernelspec": {
   "display_name": "Python 3",
   "language": "python",
   "name": "python3"
  },
  "language_info": {
   "codemirror_mode": {
    "name": "ipython",
    "version": 3
   },
   "file_extension": ".py",
   "mimetype": "text/x-python",
   "name": "python",
   "nbconvert_exporter": "python",
   "pygments_lexer": "ipython3",
   "version": "3.8.3"
  }
 },
 "nbformat": 4,
 "nbformat_minor": 4
}
