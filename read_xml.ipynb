{
 "cells": [
  {
   "cell_type": "markdown",
   "metadata": {},
   "source": [
    "# Read data from an XML file or stream\n",
    "\n",
    "XML is \"the one with the angle brackets\""
   ]
  },
  {
   "cell_type": "code",
   "execution_count": 1,
   "metadata": {},
   "outputs": [],
   "source": [
    "import feedparser\n",
    "NewsFeed = feedparser.parse(\"https://timesofindia.indiatimes.com/rssfeedstopstories.cms\")\n",
    "entry = NewsFeed.entries[1]"
   ]
  },
  {
   "cell_type": "code",
   "execution_count": 2,
   "metadata": {},
   "outputs": [
    {
     "data": {
      "text/plain": [
       "{'title': \"U'khand rains live: Six more bodies recovered; toll rises to 52\",\n",
       " 'title_detail': {'type': 'text/plain',\n",
       "  'language': 'en-IN',\n",
       "  'base': 'https://timesofindia.indiatimes.com/rssfeedstopstories.cms',\n",
       "  'value': \"U'khand rains live: Six more bodies recovered; toll rises to 52\"},\n",
       " 'summary': 'Six more bodies were recovered on Wednesday in rain-battered Uttarakhand, taking the death toll to 52 in the Himalayan state. Eight trekkers and three cooks accompanying them on a trek to Chitkul in the neighbouring Himachal Pradesh have gone missing, officials said. After inspecting the landslide area near Vishnuprayag on Badrinath National Highway, the BRO was directed to clear the route from Joshimath to Badrinath, Chamoli district magistrate said. Stay with TOI for all the latest updates:',\n",
       " 'summary_detail': {'type': 'text/html',\n",
       "  'language': 'en-IN',\n",
       "  'base': 'https://timesofindia.indiatimes.com/rssfeedstopstories.cms',\n",
       "  'value': 'Six more bodies were recovered on Wednesday in rain-battered Uttarakhand, taking the death toll to 52 in the Himalayan state. Eight trekkers and three cooks accompanying them on a trek to Chitkul in the neighbouring Himachal Pradesh have gone missing, officials said. After inspecting the landslide area near Vishnuprayag on Badrinath National Highway, the BRO was directed to clear the route from Joshimath to Badrinath, Chamoli district magistrate said. Stay with TOI for all the latest updates:'},\n",
       " 'links': [{'rel': 'alternate',\n",
       "   'type': 'text/html',\n",
       "   'href': 'https://timesofindia.indiatimes.com/city/dehradun/uttarakhand-west-up-rains-live-updates/liveblog/87148429.cms'}],\n",
       " 'link': 'https://timesofindia.indiatimes.com/city/dehradun/uttarakhand-west-up-rains-live-updates/liveblog/87148429.cms',\n",
       " 'id': 'https://timesofindia.indiatimes.com/city/dehradun/uttarakhand-west-up-rains-live-updates/liveblog/87148429.cms',\n",
       " 'guidislink': False,\n",
       " 'published': 'Wed, 20 Oct 2021 07:33:21 IST',\n",
       " 'published_parsed': time.struct_time(tm_year=2021, tm_mon=10, tm_mday=20, tm_hour=7, tm_min=33, tm_sec=21, tm_wday=2, tm_yday=293, tm_isdst=0)}"
      ]
     },
     "execution_count": 2,
     "metadata": {},
     "output_type": "execute_result"
    }
   ],
   "source": [
    "entry"
   ]
  },
  {
   "cell_type": "code",
   "execution_count": null,
   "metadata": {},
   "outputs": [],
   "source": []
  }
 ],
 "metadata": {
  "kernelspec": {
   "display_name": "Python 3",
   "language": "python",
   "name": "python3"
  },
  "language_info": {
   "codemirror_mode": {
    "name": "ipython",
    "version": 3
   },
   "file_extension": ".py",
   "mimetype": "text/x-python",
   "name": "python",
   "nbconvert_exporter": "python",
   "pygments_lexer": "ipython3",
   "version": "3.8.3"
  }
 },
 "nbformat": 4,
 "nbformat_minor": 4
}
